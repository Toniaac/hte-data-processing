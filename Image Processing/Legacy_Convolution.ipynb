{
 "cells": [
  {
   "cell_type": "code",
   "execution_count": 1,
   "metadata": {},
   "outputs": [],
   "source": [
    "import cv2\n",
    "import os\n",
    "from tqdm import tqdm\n",
    "import numpy as np\n",
    "from scipy.signal import convolve2d"
   ]
  },
  {
   "cell_type": "code",
   "execution_count": 2,
   "metadata": {},
   "outputs": [],
   "source": [
    "# save image\n",
    "# clear all files in current folder\n",
    "\n",
    "\n",
    "def save_tempimg(image):\n",
    "    '''\n",
    "    先清空当前文件夹，然后保存图片到temp_img文件夹下\n",
    "    input: \n",
    "        a cv2 format image\n",
    "    output:\n",
    "        None (save image to temp_img/)\n",
    "    '''\n",
    "    all_files = os.listdir(\"temp_img/\") # 获取目录下所有文件和目录\n",
    "\n",
    "    # 遍历所有文件和子目录\n",
    "    for file_or_dir in all_files:\n",
    "        # 构建完整的文件或目录路径\n",
    "        file_or_dir_path = os.path.join(\"temp_img/\", file_or_dir)\n",
    "        \n",
    "        # 检查是否是文件并删除\n",
    "        if os.path.isfile(file_or_dir_path):\n",
    "            os.remove(file_or_dir_path) # 删除temp_img文件夹下的所有文件\n",
    "\n",
    "    cv2.imwrite('temp_img/temp.png', image) # 保存 temp.png\n",
    "\n",
    "def save_tempimg2(image):\n",
    "    '''\n",
    "    先清空当前文件夹，然后保存temp2图片到temp_img文件夹下\n",
    "    input: \n",
    "        a cv2 format image\n",
    "    output:\n",
    "        None (save image to temp_img/)\n",
    "    '''\n",
    "    cv2.imwrite('temp_img/temp2.png', image)\n",
    "\n",
    "def generate_padding(image, border_size=1):\n",
    "    '''\n",
    "    为图像添加padding\n",
    "    input: \n",
    "        image: a cv2 format image\n",
    "        border_size: int, padding size\n",
    "    output:\n",
    "        padded_image: a cv2 format image\n",
    "    '''\n",
    "    # Get the dimensions of the original image\n",
    "    height, width = image.shape\n",
    "\n",
    "    # Create a new image with the desired size\n",
    "    padded_image = np.zeros((height + 2 * border_size, width + 2 * border_size), dtype=np.uint8)\n",
    "\n",
    "    # Copy the original image to the center of the new image\n",
    "    padded_image[border_size:border_size+height, border_size:border_size+width] = image\n",
    "\n",
    "    return padded_image"
   ]
  },
  {
   "cell_type": "markdown",
   "metadata": {},
   "source": [
    "# 读取图片"
   ]
  },
  {
   "cell_type": "markdown",
   "metadata": {},
   "source": [
    "## 图片路径"
   ]
  },
  {
   "cell_type": "code",
   "execution_count": 3,
   "metadata": {},
   "outputs": [],
   "source": [
    "from IPython.display import Image, display\n",
    "image = cv2.imread('4.jpg', cv2.IMREAD_GRAYSCALE) # 更改'4.jpg'以切换图片路径"
   ]
  },
  {
   "cell_type": "markdown",
   "metadata": {},
   "source": [
    "# Brightness Difference Processing 亮度差处理"
   ]
  },
  {
   "cell_type": "code",
   "execution_count": 4,
   "metadata": {},
   "outputs": [
    {
     "name": "stderr",
     "output_type": "stream",
     "text": [
      "  0%|          | 8/3024 [00:00<00:37, 79.44it/s]"
     ]
    },
    {
     "name": "stderr",
     "output_type": "stream",
     "text": [
      "100%|██████████| 3024/3024 [00:40<00:00, 75.36it/s]\n"
     ]
    }
   ],
   "source": [
    "image_test1 = image.copy()              #复制一份原图像用于处理\n",
    "image_test2 = generate_padding(image)   #为图像添加padding\n",
    "\n",
    "# image_test1 为原图\n",
    "# image_test2 为添加padding后的图片\n",
    "\n",
    "threshold_difference = 4\n",
    "for i in tqdm(range(len(image_test1))):     #原图的每一行\n",
    "    for j in range(len(image_test1[i])):    #原图的每一列\n",
    "        current = int(image_test2[i][j])    #正在处理的中心像素亮度值\n",
    "        top = int(image_test2[i-1][j])      #上方像素亮度值\n",
    "        bot = int(image_test2[i+1][j])    #下方像素亮度值\n",
    "        left = int(image_test2[i][j-1])     #左方像素亮度值\n",
    "        right = int(image_test2[i][j+1])    #右方像素亮度值\n",
    "        top_diff = abs(current - top)    #中心像素与上方像素亮度差\n",
    "        bot_diff = abs(current - bot)   #中心像素与下方像素亮度差\n",
    "        left_diff = abs(current - left)   #中心像素与左方像素亮度差\n",
    "        right_diff = abs(current - right)   #中心像素与右方像素亮度差\n",
    "        diff = max(top_diff, bot_diff, left_diff, right_diff)   #取最大差值\n",
    "        if diff > threshold_difference or image_test1[i][j] <= 130:     #如果最大差值大于阈值或者中心像素亮度值小于等于130\n",
    "            image_test1[i][j] = 0   #中心像素亮度值设为0\n",
    "        if image_test1[i][j] > 150:\n",
    "            image_test1[i][j] = 255 #否则中心像素亮度值设为255"
   ]
  },
  {
   "cell_type": "code",
   "execution_count": 6,
   "metadata": {},
   "outputs": [],
   "source": [
    "save_tempimg(image_test1) # 保存brightness difference processed image为temp.png"
   ]
  },
  {
   "cell_type": "markdown",
   "metadata": {},
   "source": [
    "# Imaging Denoising"
   ]
  },
  {
   "cell_type": "markdown",
   "metadata": {},
   "source": [
    "Density measure\n",
    "- 1. kernal size\n",
    "- 2. black density\n",
    "- Will use test_image_2 for paddling\n",
    "\n",
    "用n*n的kernel划过每一行每一列，如果在image2中这一个pixel作为中心的kernel中的黑色像素比例超过threshold%，该像素在image1中将被替换成黑色，反之则会被替换为白色\n",
    "\n",
    "此处的可替换variable为threshold数值"
   ]
  },
  {
   "cell_type": "code",
   "execution_count": 7,
   "metadata": {},
   "outputs": [],
   "source": [
    "kernel_n = 9 # must be odd\n",
    "threshold = 0.4                             # Adjustable threshold value\n",
    "kernel = np.ones((kernel_n, kernel_n))\n",
    "result_array = convolve2d(image_test1, kernel, mode='same', boundary='fill', fillvalue=0)\n",
    "# multiply result_array by 1/225\n",
    "white_pixel_count = result_array / 255\n",
    "black_pixel_ratio = (81 - white_pixel_count) / 81"
   ]
  },
  {
   "cell_type": "code",
   "execution_count": 8,
   "metadata": {},
   "outputs": [
    {
     "name": "stderr",
     "output_type": "stream",
     "text": [
      "  0%|          | 0/3024 [00:00<?, ?it/s]"
     ]
    },
    {
     "name": "stderr",
     "output_type": "stream",
     "text": [
      "100%|██████████| 3024/3024 [00:03<00:00, 872.60it/s]\n"
     ]
    }
   ],
   "source": [
    "image_test3 = image_test1.copy()\n",
    "for i in tqdm(range(len(image_test3))):\n",
    "    for j in range(len(image_test3[i])):\n",
    "        if black_pixel_ratio[i][j] < threshold:\n",
    "            image_test3[i][j] = 255\n",
    "        else:\n",
    "            image_test3[i][j] = 0"
   ]
  },
  {
   "cell_type": "code",
   "execution_count": 9,
   "metadata": {},
   "outputs": [],
   "source": [
    "save_tempimg2(image_test3)"
   ]
  },
  {
   "cell_type": "code",
   "execution_count": 10,
   "metadata": {},
   "outputs": [],
   "source": [
    "# kernel_n = 9\n",
    "# border_size = kernel_n // 2\n",
    "# threshold = 0.4\n",
    "\n",
    "# # test_image1 is the previously processed image, is a 2D numpy array contain only 0 and 255\n",
    "# # shape of test_image1 is (height, width)\n",
    "\n",
    "# # test_image2 is the padded image of test_image1, with a padding added to each side\n",
    "# # and the size of the padding is border_size. shape of test_image2 is (height + 2 * border_size, width + 2 * border_size)\n",
    "\n",
    "# # A kernel size with kernel_n will be used. This kernel will slide through each row and column of test_image2.\n",
    "# # For each pixel, the kernel will be centered on it, and the percentage of black pixels in the kernel will be calculated.\n",
    "# # If the percentage is greater than threshold, the pixel will be set to 0, otherwise it will be set to 255.\n",
    "# test_image_1 = image_test.copy()\n",
    "# test_image_2 = generate_padding(test_image_1, border_size=border_size)\n",
    "# for i in tqdm(range(len(image_test))):\n",
    "#     for j in range(len(image_test[i])):\n",
    "#         y = i + border_size\n",
    "#         x = j + border_size\n",
    "#         kernel = test_image_2[y-border_size:y+border_size+1, x-border_size:x+border_size+1]\n",
    "#         black_pixel_count = 0\n",
    "#         for row in kernel:\n",
    "#             for element in row:\n",
    "#                 if element == 0:\n",
    "#                     black_pixel_count += 1\n",
    "#         black_percentage = black_pixel_count / (kernel_n * kernel_n)\n",
    "#         if black_percentage > threshold:\n",
    "#             test_image_1[i][j] = 0\n",
    "#         else:\n",
    "#             test_image_1[i][j] = 255\n"
   ]
  },
  {
   "cell_type": "code",
   "execution_count": 11,
   "metadata": {},
   "outputs": [],
   "source": [
    "# save_tempimg2(test_image_1)"
   ]
  },
  {
   "cell_type": "code",
   "execution_count": 12,
   "metadata": {},
   "outputs": [],
   "source": [
    "                #j   0  1  2  3  4      # i\n",
    "k_array = np.array([[1 ,2 ,3 ,4 ,5],    # 0\n",
    "                    [6 ,7 ,8 ,9 ,10],   # 1\n",
    "                    [11,12,13,14,15],   # 2\n",
    "                    [16,17,18,19,20]])  # 3\n",
    "\n",
    "                    #x    0   1   2   3   4   5   6     # y\n",
    "k_paddedled = np.array([[ 0,  0,  0,  0,  0,  0,  0],   # 0 # Can be generated using generate_padding(k_array, border_size=1)\n",
    "                        [ 0,  1,  2,  3,  4,  5,  0],   # 1\n",
    "                        [ 0,  6,  7,  8,  9, 10,  0],   # 2\n",
    "                        [ 0, 11, 12, 13, 14, 15,  0],   # 3\n",
    "                        [ 0, 16, 17, 18, 19, 20,  0],   # 4\n",
    "                        [ 0,  0,  0,  0,  0,  0,  0]])  # 5\n",
    "\n",
    "# Currently , i = 2, j = 1, looking at k_array[2][1] = 12\n",
    "# As stated, y = i + border_size = 2 + 1 = 3\n",
    "# and x = j + border_size = 1 + 1 = 2\n",
    "# k_paddedled[3][2] = 12"
   ]
  },
  {
   "cell_type": "code",
   "execution_count": 13,
   "metadata": {},
   "outputs": [
    {
     "data": {
      "text/plain": [
       "array([[ 6,  7,  8],\n",
       "       [11, 12, 13],\n",
       "       [16, 17, 18]])"
      ]
     },
     "execution_count": 13,
     "metadata": {},
     "output_type": "execute_result"
    }
   ],
   "source": [
    "k_paddedled[2:5, 1:4]\n",
    "\n",
    "# here, we can see y is from 2 to 5, containing 3 rows\n",
    "# x is from 1 to 4, containing 3 columns\n",
    "# y=2 is from y-border_size, 3-1 = 2; y=5 is from y+border_size+1, 3+1+1 = 5\n",
    "# x=1 is from x-border_size, 1-1 = 0; x=4 is from x+border_size+1, 1+1+1 = 4"
   ]
  },
  {
   "cell_type": "code",
   "execution_count": 14,
   "metadata": {},
   "outputs": [
    {
     "name": "stdout",
     "output_type": "stream",
     "text": [
      "6 7 8 \n",
      "11 12 13 \n",
      "16 17 18 \n"
     ]
    }
   ],
   "source": [
    "# go through ever element in k_array\n",
    "for row in k_paddedled[2:5, 1:4]:\n",
    "    for element in row:\n",
    "        print(element, end=' ')\n",
    "    print()"
   ]
  },
  {
   "cell_type": "code",
   "execution_count": 15,
   "metadata": {},
   "outputs": [],
   "source": [
    "\n",
    "import numpy as np\n",
    "\n",
    "# 创建一个二维数组（例如，图像）\n",
    "input_array = np.array([[1, 2, 0],\n",
    "                        [5, 3, 1],\n",
    "                        [0, 1, 2]])\n",
    "\n",
    "# 创建一个卷积核\n",
    "kernel = np.array([[1, 1, 1],\n",
    "                   [1, 1, 1],\n",
    "                   [1, 1, 1]])\n",
    "\n",
    "# 执行卷积\n",
    "output_array = convolve2d(input_array, kernel, mode='same', boundary='fill', fillvalue=0)\n"
   ]
  },
  {
   "cell_type": "code",
   "execution_count": 16,
   "metadata": {},
   "outputs": [],
   "source": [
    "\n",
    "import numpy as np\n",
    "\n",
    "# 创建一个二维数组（例如，图像）\n",
    "input_array = np.array([[255, 255, 255],\n",
    "                        [255, 255, 255],\n",
    "                        [255, 255, 255]])\n",
    "\n",
    "# 创建一个卷积核\n",
    "kernel = np.array([[1, 1, 1],\n",
    "                   [1, 1, 1],\n",
    "                   [1, 1, 1]])\n",
    "\n",
    "# 执行卷积\n",
    "output_array = convolve2d(input_array, kernel, mode='same', boundary='fill', fillvalue=0)\n"
   ]
  },
  {
   "cell_type": "code",
   "execution_count": 17,
   "metadata": {},
   "outputs": [
    {
     "data": {
      "text/plain": [
       "array([[ 0,  0,  0,  0,  0,  0,  0],\n",
       "       [ 0,  1,  2,  3,  4,  5,  0],\n",
       "       [ 0,  6,  7,  8,  9, 10,  0],\n",
       "       [ 0, 11, 12, 13, 14, 15,  0],\n",
       "       [ 0, 16, 17, 18, 19, 20,  0],\n",
       "       [ 0,  0,  0,  0,  0,  0,  0]])"
      ]
     },
     "execution_count": 17,
     "metadata": {},
     "output_type": "execute_result"
    }
   ],
   "source": [
    "k_paddedled"
   ]
  },
  {
   "cell_type": "code",
   "execution_count": 18,
   "metadata": {},
   "outputs": [
    {
     "name": "stdout",
     "output_type": "stream",
     "text": [
      "[[1 1 1]\n",
      " [1 1 1]\n",
      " [1 1 1]]\n"
     ]
    }
   ],
   "source": [
    "# rotate the kernel by 90 degrees counterclockwise\n",
    "print(np.rot90(kernel, 2))"
   ]
  },
  {
   "cell_type": "code",
   "execution_count": 19,
   "metadata": {},
   "outputs": [],
   "source": [
    "output_array = convolve2d(input_array, kernel, mode='same', boundary='fill', fillvalue=0)"
   ]
  },
  {
   "cell_type": "code",
   "execution_count": 20,
   "metadata": {},
   "outputs": [
    {
     "data": {
      "text/plain": [
       "array([[1020, 1530, 1020],\n",
       "       [1530, 2295, 1530],\n",
       "       [1020, 1530, 1020]])"
      ]
     },
     "execution_count": 20,
     "metadata": {},
     "output_type": "execute_result"
    }
   ],
   "source": [
    "output_array"
   ]
  },
  {
   "cell_type": "code",
   "execution_count": null,
   "metadata": {},
   "outputs": [],
   "source": []
  }
 ],
 "metadata": {
  "kernelspec": {
   "display_name": "Python 3",
   "language": "python",
   "name": "python3"
  },
  "language_info": {
   "codemirror_mode": {
    "name": "ipython",
    "version": 3
   },
   "file_extension": ".py",
   "mimetype": "text/x-python",
   "name": "python",
   "nbconvert_exporter": "python",
   "pygments_lexer": "ipython3",
   "version": "3.10.9"
  }
 },
 "nbformat": 4,
 "nbformat_minor": 2
}
